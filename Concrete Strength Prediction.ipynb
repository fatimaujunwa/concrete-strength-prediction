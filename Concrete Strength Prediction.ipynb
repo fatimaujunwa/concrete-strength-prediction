{
 "cells": [
  {
   "cell_type": "code",
   "execution_count": 1,
   "id": "db970d2e",
   "metadata": {},
   "outputs": [],
   "source": [
    "import pandas as pd\n",
    "import matplotlib.pyplot as plt\n",
    "%matplotlib inline\n",
    "import numpy as np\n",
    "from sklearn.model_selection import train_test_split\n",
    "from sklearn.linear_model import LinearRegression as reg\n",
    "import seaborn as sns\n",
    "import statsmodels.api as sm\n",
    "from statsmodels.stats.outliers_influence import variance_inflation_factor\n",
    "\n"
   ]
  },
  {
   "cell_type": "markdown",
   "id": "1e1ddb0e",
   "metadata": {},
   "source": [
    "# Loading the data"
   ]
  },
  {
   "cell_type": "code",
   "execution_count": 2,
   "id": "0ffba349",
   "metadata": {},
   "outputs": [
    {
     "ename": "IncompleteRead",
     "evalue": "IncompleteRead(116192 bytes read)",
     "output_type": "error",
     "traceback": [
      "\u001b[0;31m---------------------------------------------------------------------------\u001b[0m",
      "\u001b[0;31mIncompleteRead\u001b[0m                            Traceback (most recent call last)",
      "File \u001b[0;32m~/opt/anaconda3/lib/python3.9/http/client.py:580\u001b[0m, in \u001b[0;36mHTTPResponse._readall_chunked\u001b[0;34m(self)\u001b[0m\n\u001b[1;32m    579\u001b[0m     \u001b[38;5;28;01mbreak\u001b[39;00m\n\u001b[0;32m--> 580\u001b[0m value\u001b[38;5;241m.\u001b[39mappend(\u001b[38;5;28;43mself\u001b[39;49m\u001b[38;5;241;43m.\u001b[39;49m\u001b[43m_safe_read\u001b[49m\u001b[43m(\u001b[49m\u001b[43mchunk_left\u001b[49m\u001b[43m)\u001b[49m)\n\u001b[1;32m    581\u001b[0m \u001b[38;5;28mself\u001b[39m\u001b[38;5;241m.\u001b[39mchunk_left \u001b[38;5;241m=\u001b[39m \u001b[38;5;241m0\u001b[39m\n",
      "File \u001b[0;32m~/opt/anaconda3/lib/python3.9/http/client.py:628\u001b[0m, in \u001b[0;36mHTTPResponse._safe_read\u001b[0;34m(self, amt)\u001b[0m\n\u001b[1;32m    627\u001b[0m \u001b[38;5;28;01mif\u001b[39;00m \u001b[38;5;129;01mnot\u001b[39;00m chunk:\n\u001b[0;32m--> 628\u001b[0m     \u001b[38;5;28;01mraise\u001b[39;00m IncompleteRead(\u001b[38;5;124mb\u001b[39m\u001b[38;5;124m'\u001b[39m\u001b[38;5;124m'\u001b[39m\u001b[38;5;241m.\u001b[39mjoin(s), amt)\n\u001b[1;32m    629\u001b[0m s\u001b[38;5;241m.\u001b[39mappend(chunk)\n",
      "\u001b[0;31mIncompleteRead\u001b[0m: IncompleteRead(12324 bytes read, 2556 more expected)",
      "\nDuring handling of the above exception, another exception occurred:\n",
      "\u001b[0;31mIncompleteRead\u001b[0m                            Traceback (most recent call last)",
      "Input \u001b[0;32mIn [2]\u001b[0m, in \u001b[0;36m<cell line: 2>\u001b[0;34m()\u001b[0m\n\u001b[1;32m      1\u001b[0m data\u001b[38;5;241m=\u001b[39mpd\u001b[38;5;241m.\u001b[39mread_csv(\u001b[38;5;124m'\u001b[39m\u001b[38;5;124mconcrete_data.csv\u001b[39m\u001b[38;5;124m'\u001b[39m)\n\u001b[0;32m----> 2\u001b[0m df\u001b[38;5;241m=\u001b[39m\u001b[43mpd\u001b[49m\u001b[38;5;241;43m.\u001b[39;49m\u001b[43mread_csv\u001b[49m\u001b[43m(\u001b[49m\u001b[38;5;124;43m'\u001b[39;49m\u001b[38;5;124;43mhttps://github.com/Golder12/Linear-regression-project.git\u001b[39;49m\u001b[38;5;124;43m'\u001b[39;49m\u001b[43m)\u001b[49m\n",
      "File \u001b[0;32m~/opt/anaconda3/lib/python3.9/site-packages/pandas/util/_decorators.py:311\u001b[0m, in \u001b[0;36mdeprecate_nonkeyword_arguments.<locals>.decorate.<locals>.wrapper\u001b[0;34m(*args, **kwargs)\u001b[0m\n\u001b[1;32m    305\u001b[0m \u001b[38;5;28;01mif\u001b[39;00m \u001b[38;5;28mlen\u001b[39m(args) \u001b[38;5;241m>\u001b[39m num_allow_args:\n\u001b[1;32m    306\u001b[0m     warnings\u001b[38;5;241m.\u001b[39mwarn(\n\u001b[1;32m    307\u001b[0m         msg\u001b[38;5;241m.\u001b[39mformat(arguments\u001b[38;5;241m=\u001b[39marguments),\n\u001b[1;32m    308\u001b[0m         \u001b[38;5;167;01mFutureWarning\u001b[39;00m,\n\u001b[1;32m    309\u001b[0m         stacklevel\u001b[38;5;241m=\u001b[39mstacklevel,\n\u001b[1;32m    310\u001b[0m     )\n\u001b[0;32m--> 311\u001b[0m \u001b[38;5;28;01mreturn\u001b[39;00m \u001b[43mfunc\u001b[49m\u001b[43m(\u001b[49m\u001b[38;5;241;43m*\u001b[39;49m\u001b[43margs\u001b[49m\u001b[43m,\u001b[49m\u001b[43m \u001b[49m\u001b[38;5;241;43m*\u001b[39;49m\u001b[38;5;241;43m*\u001b[39;49m\u001b[43mkwargs\u001b[49m\u001b[43m)\u001b[49m\n",
      "File \u001b[0;32m~/opt/anaconda3/lib/python3.9/site-packages/pandas/io/parsers/readers.py:680\u001b[0m, in \u001b[0;36mread_csv\u001b[0;34m(filepath_or_buffer, sep, delimiter, header, names, index_col, usecols, squeeze, prefix, mangle_dupe_cols, dtype, engine, converters, true_values, false_values, skipinitialspace, skiprows, skipfooter, nrows, na_values, keep_default_na, na_filter, verbose, skip_blank_lines, parse_dates, infer_datetime_format, keep_date_col, date_parser, dayfirst, cache_dates, iterator, chunksize, compression, thousands, decimal, lineterminator, quotechar, quoting, doublequote, escapechar, comment, encoding, encoding_errors, dialect, error_bad_lines, warn_bad_lines, on_bad_lines, delim_whitespace, low_memory, memory_map, float_precision, storage_options)\u001b[0m\n\u001b[1;32m    665\u001b[0m kwds_defaults \u001b[38;5;241m=\u001b[39m _refine_defaults_read(\n\u001b[1;32m    666\u001b[0m     dialect,\n\u001b[1;32m    667\u001b[0m     delimiter,\n\u001b[0;32m   (...)\u001b[0m\n\u001b[1;32m    676\u001b[0m     defaults\u001b[38;5;241m=\u001b[39m{\u001b[38;5;124m\"\u001b[39m\u001b[38;5;124mdelimiter\u001b[39m\u001b[38;5;124m\"\u001b[39m: \u001b[38;5;124m\"\u001b[39m\u001b[38;5;124m,\u001b[39m\u001b[38;5;124m\"\u001b[39m},\n\u001b[1;32m    677\u001b[0m )\n\u001b[1;32m    678\u001b[0m kwds\u001b[38;5;241m.\u001b[39mupdate(kwds_defaults)\n\u001b[0;32m--> 680\u001b[0m \u001b[38;5;28;01mreturn\u001b[39;00m \u001b[43m_read\u001b[49m\u001b[43m(\u001b[49m\u001b[43mfilepath_or_buffer\u001b[49m\u001b[43m,\u001b[49m\u001b[43m \u001b[49m\u001b[43mkwds\u001b[49m\u001b[43m)\u001b[49m\n",
      "File \u001b[0;32m~/opt/anaconda3/lib/python3.9/site-packages/pandas/io/parsers/readers.py:575\u001b[0m, in \u001b[0;36m_read\u001b[0;34m(filepath_or_buffer, kwds)\u001b[0m\n\u001b[1;32m    572\u001b[0m _validate_names(kwds\u001b[38;5;241m.\u001b[39mget(\u001b[38;5;124m\"\u001b[39m\u001b[38;5;124mnames\u001b[39m\u001b[38;5;124m\"\u001b[39m, \u001b[38;5;28;01mNone\u001b[39;00m))\n\u001b[1;32m    574\u001b[0m \u001b[38;5;66;03m# Create the parser.\u001b[39;00m\n\u001b[0;32m--> 575\u001b[0m parser \u001b[38;5;241m=\u001b[39m \u001b[43mTextFileReader\u001b[49m\u001b[43m(\u001b[49m\u001b[43mfilepath_or_buffer\u001b[49m\u001b[43m,\u001b[49m\u001b[43m \u001b[49m\u001b[38;5;241;43m*\u001b[39;49m\u001b[38;5;241;43m*\u001b[39;49m\u001b[43mkwds\u001b[49m\u001b[43m)\u001b[49m\n\u001b[1;32m    577\u001b[0m \u001b[38;5;28;01mif\u001b[39;00m chunksize \u001b[38;5;129;01mor\u001b[39;00m iterator:\n\u001b[1;32m    578\u001b[0m     \u001b[38;5;28;01mreturn\u001b[39;00m parser\n",
      "File \u001b[0;32m~/opt/anaconda3/lib/python3.9/site-packages/pandas/io/parsers/readers.py:933\u001b[0m, in \u001b[0;36mTextFileReader.__init__\u001b[0;34m(self, f, engine, **kwds)\u001b[0m\n\u001b[1;32m    930\u001b[0m     \u001b[38;5;28mself\u001b[39m\u001b[38;5;241m.\u001b[39moptions[\u001b[38;5;124m\"\u001b[39m\u001b[38;5;124mhas_index_names\u001b[39m\u001b[38;5;124m\"\u001b[39m] \u001b[38;5;241m=\u001b[39m kwds[\u001b[38;5;124m\"\u001b[39m\u001b[38;5;124mhas_index_names\u001b[39m\u001b[38;5;124m\"\u001b[39m]\n\u001b[1;32m    932\u001b[0m \u001b[38;5;28mself\u001b[39m\u001b[38;5;241m.\u001b[39mhandles: IOHandles \u001b[38;5;241m|\u001b[39m \u001b[38;5;28;01mNone\u001b[39;00m \u001b[38;5;241m=\u001b[39m \u001b[38;5;28;01mNone\u001b[39;00m\n\u001b[0;32m--> 933\u001b[0m \u001b[38;5;28mself\u001b[39m\u001b[38;5;241m.\u001b[39m_engine \u001b[38;5;241m=\u001b[39m \u001b[38;5;28;43mself\u001b[39;49m\u001b[38;5;241;43m.\u001b[39;49m\u001b[43m_make_engine\u001b[49m\u001b[43m(\u001b[49m\u001b[43mf\u001b[49m\u001b[43m,\u001b[49m\u001b[43m \u001b[49m\u001b[38;5;28;43mself\u001b[39;49m\u001b[38;5;241;43m.\u001b[39;49m\u001b[43mengine\u001b[49m\u001b[43m)\u001b[49m\n",
      "File \u001b[0;32m~/opt/anaconda3/lib/python3.9/site-packages/pandas/io/parsers/readers.py:1217\u001b[0m, in \u001b[0;36mTextFileReader._make_engine\u001b[0;34m(self, f, engine)\u001b[0m\n\u001b[1;32m   1213\u001b[0m     mode \u001b[38;5;241m=\u001b[39m \u001b[38;5;124m\"\u001b[39m\u001b[38;5;124mrb\u001b[39m\u001b[38;5;124m\"\u001b[39m\n\u001b[1;32m   1214\u001b[0m \u001b[38;5;66;03m# error: No overload variant of \"get_handle\" matches argument types\u001b[39;00m\n\u001b[1;32m   1215\u001b[0m \u001b[38;5;66;03m# \"Union[str, PathLike[str], ReadCsvBuffer[bytes], ReadCsvBuffer[str]]\"\u001b[39;00m\n\u001b[1;32m   1216\u001b[0m \u001b[38;5;66;03m# , \"str\", \"bool\", \"Any\", \"Any\", \"Any\", \"Any\", \"Any\"\u001b[39;00m\n\u001b[0;32m-> 1217\u001b[0m \u001b[38;5;28mself\u001b[39m\u001b[38;5;241m.\u001b[39mhandles \u001b[38;5;241m=\u001b[39m \u001b[43mget_handle\u001b[49m\u001b[43m(\u001b[49m\u001b[43m  \u001b[49m\u001b[38;5;66;43;03m# type: ignore[call-overload]\u001b[39;49;00m\n\u001b[1;32m   1218\u001b[0m \u001b[43m    \u001b[49m\u001b[43mf\u001b[49m\u001b[43m,\u001b[49m\n\u001b[1;32m   1219\u001b[0m \u001b[43m    \u001b[49m\u001b[43mmode\u001b[49m\u001b[43m,\u001b[49m\n\u001b[1;32m   1220\u001b[0m \u001b[43m    \u001b[49m\u001b[43mencoding\u001b[49m\u001b[38;5;241;43m=\u001b[39;49m\u001b[38;5;28;43mself\u001b[39;49m\u001b[38;5;241;43m.\u001b[39;49m\u001b[43moptions\u001b[49m\u001b[38;5;241;43m.\u001b[39;49m\u001b[43mget\u001b[49m\u001b[43m(\u001b[49m\u001b[38;5;124;43m\"\u001b[39;49m\u001b[38;5;124;43mencoding\u001b[39;49m\u001b[38;5;124;43m\"\u001b[39;49m\u001b[43m,\u001b[49m\u001b[43m \u001b[49m\u001b[38;5;28;43;01mNone\u001b[39;49;00m\u001b[43m)\u001b[49m\u001b[43m,\u001b[49m\n\u001b[1;32m   1221\u001b[0m \u001b[43m    \u001b[49m\u001b[43mcompression\u001b[49m\u001b[38;5;241;43m=\u001b[39;49m\u001b[38;5;28;43mself\u001b[39;49m\u001b[38;5;241;43m.\u001b[39;49m\u001b[43moptions\u001b[49m\u001b[38;5;241;43m.\u001b[39;49m\u001b[43mget\u001b[49m\u001b[43m(\u001b[49m\u001b[38;5;124;43m\"\u001b[39;49m\u001b[38;5;124;43mcompression\u001b[39;49m\u001b[38;5;124;43m\"\u001b[39;49m\u001b[43m,\u001b[49m\u001b[43m \u001b[49m\u001b[38;5;28;43;01mNone\u001b[39;49;00m\u001b[43m)\u001b[49m\u001b[43m,\u001b[49m\n\u001b[1;32m   1222\u001b[0m \u001b[43m    \u001b[49m\u001b[43mmemory_map\u001b[49m\u001b[38;5;241;43m=\u001b[39;49m\u001b[38;5;28;43mself\u001b[39;49m\u001b[38;5;241;43m.\u001b[39;49m\u001b[43moptions\u001b[49m\u001b[38;5;241;43m.\u001b[39;49m\u001b[43mget\u001b[49m\u001b[43m(\u001b[49m\u001b[38;5;124;43m\"\u001b[39;49m\u001b[38;5;124;43mmemory_map\u001b[39;49m\u001b[38;5;124;43m\"\u001b[39;49m\u001b[43m,\u001b[49m\u001b[43m \u001b[49m\u001b[38;5;28;43;01mFalse\u001b[39;49;00m\u001b[43m)\u001b[49m\u001b[43m,\u001b[49m\n\u001b[1;32m   1223\u001b[0m \u001b[43m    \u001b[49m\u001b[43mis_text\u001b[49m\u001b[38;5;241;43m=\u001b[39;49m\u001b[43mis_text\u001b[49m\u001b[43m,\u001b[49m\n\u001b[1;32m   1224\u001b[0m \u001b[43m    \u001b[49m\u001b[43merrors\u001b[49m\u001b[38;5;241;43m=\u001b[39;49m\u001b[38;5;28;43mself\u001b[39;49m\u001b[38;5;241;43m.\u001b[39;49m\u001b[43moptions\u001b[49m\u001b[38;5;241;43m.\u001b[39;49m\u001b[43mget\u001b[49m\u001b[43m(\u001b[49m\u001b[38;5;124;43m\"\u001b[39;49m\u001b[38;5;124;43mencoding_errors\u001b[39;49m\u001b[38;5;124;43m\"\u001b[39;49m\u001b[43m,\u001b[49m\u001b[43m \u001b[49m\u001b[38;5;124;43m\"\u001b[39;49m\u001b[38;5;124;43mstrict\u001b[39;49m\u001b[38;5;124;43m\"\u001b[39;49m\u001b[43m)\u001b[49m\u001b[43m,\u001b[49m\n\u001b[1;32m   1225\u001b[0m \u001b[43m    \u001b[49m\u001b[43mstorage_options\u001b[49m\u001b[38;5;241;43m=\u001b[39;49m\u001b[38;5;28;43mself\u001b[39;49m\u001b[38;5;241;43m.\u001b[39;49m\u001b[43moptions\u001b[49m\u001b[38;5;241;43m.\u001b[39;49m\u001b[43mget\u001b[49m\u001b[43m(\u001b[49m\u001b[38;5;124;43m\"\u001b[39;49m\u001b[38;5;124;43mstorage_options\u001b[39;49m\u001b[38;5;124;43m\"\u001b[39;49m\u001b[43m,\u001b[49m\u001b[43m \u001b[49m\u001b[38;5;28;43;01mNone\u001b[39;49;00m\u001b[43m)\u001b[49m\u001b[43m,\u001b[49m\n\u001b[1;32m   1226\u001b[0m \u001b[43m\u001b[49m\u001b[43m)\u001b[49m\n\u001b[1;32m   1227\u001b[0m \u001b[38;5;28;01massert\u001b[39;00m \u001b[38;5;28mself\u001b[39m\u001b[38;5;241m.\u001b[39mhandles \u001b[38;5;129;01mis\u001b[39;00m \u001b[38;5;129;01mnot\u001b[39;00m \u001b[38;5;28;01mNone\u001b[39;00m\n\u001b[1;32m   1228\u001b[0m f \u001b[38;5;241m=\u001b[39m \u001b[38;5;28mself\u001b[39m\u001b[38;5;241m.\u001b[39mhandles\u001b[38;5;241m.\u001b[39mhandle\n",
      "File \u001b[0;32m~/opt/anaconda3/lib/python3.9/site-packages/pandas/io/common.py:670\u001b[0m, in \u001b[0;36mget_handle\u001b[0;34m(path_or_buf, mode, encoding, compression, memory_map, is_text, errors, storage_options)\u001b[0m\n\u001b[1;32m    667\u001b[0m     codecs\u001b[38;5;241m.\u001b[39mlookup_error(errors)\n\u001b[1;32m    669\u001b[0m \u001b[38;5;66;03m# open URLs\u001b[39;00m\n\u001b[0;32m--> 670\u001b[0m ioargs \u001b[38;5;241m=\u001b[39m \u001b[43m_get_filepath_or_buffer\u001b[49m\u001b[43m(\u001b[49m\n\u001b[1;32m    671\u001b[0m \u001b[43m    \u001b[49m\u001b[43mpath_or_buf\u001b[49m\u001b[43m,\u001b[49m\n\u001b[1;32m    672\u001b[0m \u001b[43m    \u001b[49m\u001b[43mencoding\u001b[49m\u001b[38;5;241;43m=\u001b[39;49m\u001b[43mencoding\u001b[49m\u001b[43m,\u001b[49m\n\u001b[1;32m    673\u001b[0m \u001b[43m    \u001b[49m\u001b[43mcompression\u001b[49m\u001b[38;5;241;43m=\u001b[39;49m\u001b[43mcompression\u001b[49m\u001b[43m,\u001b[49m\n\u001b[1;32m    674\u001b[0m \u001b[43m    \u001b[49m\u001b[43mmode\u001b[49m\u001b[38;5;241;43m=\u001b[39;49m\u001b[43mmode\u001b[49m\u001b[43m,\u001b[49m\n\u001b[1;32m    675\u001b[0m \u001b[43m    \u001b[49m\u001b[43mstorage_options\u001b[49m\u001b[38;5;241;43m=\u001b[39;49m\u001b[43mstorage_options\u001b[49m\u001b[43m,\u001b[49m\n\u001b[1;32m    676\u001b[0m \u001b[43m\u001b[49m\u001b[43m)\u001b[49m\n\u001b[1;32m    678\u001b[0m handle \u001b[38;5;241m=\u001b[39m ioargs\u001b[38;5;241m.\u001b[39mfilepath_or_buffer\n\u001b[1;32m    679\u001b[0m handles: \u001b[38;5;28mlist\u001b[39m[BaseBuffer]\n",
      "File \u001b[0;32m~/opt/anaconda3/lib/python3.9/site-packages/pandas/io/common.py:344\u001b[0m, in \u001b[0;36m_get_filepath_or_buffer\u001b[0;34m(filepath_or_buffer, encoding, compression, mode, storage_options)\u001b[0m\n\u001b[1;32m    341\u001b[0m         \u001b[38;5;28;01mif\u001b[39;00m content_encoding \u001b[38;5;241m==\u001b[39m \u001b[38;5;124m\"\u001b[39m\u001b[38;5;124mgzip\u001b[39m\u001b[38;5;124m\"\u001b[39m:\n\u001b[1;32m    342\u001b[0m             \u001b[38;5;66;03m# Override compression based on Content-Encoding header\u001b[39;00m\n\u001b[1;32m    343\u001b[0m             compression \u001b[38;5;241m=\u001b[39m {\u001b[38;5;124m\"\u001b[39m\u001b[38;5;124mmethod\u001b[39m\u001b[38;5;124m\"\u001b[39m: \u001b[38;5;124m\"\u001b[39m\u001b[38;5;124mgzip\u001b[39m\u001b[38;5;124m\"\u001b[39m}\n\u001b[0;32m--> 344\u001b[0m         reader \u001b[38;5;241m=\u001b[39m BytesIO(\u001b[43mreq\u001b[49m\u001b[38;5;241;43m.\u001b[39;49m\u001b[43mread\u001b[49m\u001b[43m(\u001b[49m\u001b[43m)\u001b[49m)\n\u001b[1;32m    345\u001b[0m     \u001b[38;5;28;01mreturn\u001b[39;00m IOArgs(\n\u001b[1;32m    346\u001b[0m         filepath_or_buffer\u001b[38;5;241m=\u001b[39mreader,\n\u001b[1;32m    347\u001b[0m         encoding\u001b[38;5;241m=\u001b[39mencoding,\n\u001b[0;32m   (...)\u001b[0m\n\u001b[1;32m    350\u001b[0m         mode\u001b[38;5;241m=\u001b[39mfsspec_mode,\n\u001b[1;32m    351\u001b[0m     )\n\u001b[1;32m    353\u001b[0m \u001b[38;5;28;01mif\u001b[39;00m is_fsspec_url(filepath_or_buffer):\n",
      "File \u001b[0;32m~/opt/anaconda3/lib/python3.9/http/client.py:470\u001b[0m, in \u001b[0;36mHTTPResponse.read\u001b[0;34m(self, amt)\u001b[0m\n\u001b[1;32m    465\u001b[0m \u001b[38;5;28;01melse\u001b[39;00m:\n\u001b[1;32m    466\u001b[0m     \u001b[38;5;66;03m# Amount is not given (unbounded read) so we must check self.length\u001b[39;00m\n\u001b[1;32m    467\u001b[0m     \u001b[38;5;66;03m# and self.chunked\u001b[39;00m\n\u001b[1;32m    469\u001b[0m     \u001b[38;5;28;01mif\u001b[39;00m \u001b[38;5;28mself\u001b[39m\u001b[38;5;241m.\u001b[39mchunked:\n\u001b[0;32m--> 470\u001b[0m         \u001b[38;5;28;01mreturn\u001b[39;00m \u001b[38;5;28;43mself\u001b[39;49m\u001b[38;5;241;43m.\u001b[39;49m\u001b[43m_readall_chunked\u001b[49m\u001b[43m(\u001b[49m\u001b[43m)\u001b[49m\n\u001b[1;32m    472\u001b[0m     \u001b[38;5;28;01mif\u001b[39;00m \u001b[38;5;28mself\u001b[39m\u001b[38;5;241m.\u001b[39mlength \u001b[38;5;129;01mis\u001b[39;00m \u001b[38;5;28;01mNone\u001b[39;00m:\n\u001b[1;32m    473\u001b[0m         s \u001b[38;5;241m=\u001b[39m \u001b[38;5;28mself\u001b[39m\u001b[38;5;241m.\u001b[39mfp\u001b[38;5;241m.\u001b[39mread()\n",
      "File \u001b[0;32m~/opt/anaconda3/lib/python3.9/http/client.py:584\u001b[0m, in \u001b[0;36mHTTPResponse._readall_chunked\u001b[0;34m(self)\u001b[0m\n\u001b[1;32m    582\u001b[0m     \u001b[38;5;28;01mreturn\u001b[39;00m \u001b[38;5;124mb\u001b[39m\u001b[38;5;124m'\u001b[39m\u001b[38;5;124m'\u001b[39m\u001b[38;5;241m.\u001b[39mjoin(value)\n\u001b[1;32m    583\u001b[0m \u001b[38;5;28;01mexcept\u001b[39;00m IncompleteRead:\n\u001b[0;32m--> 584\u001b[0m     \u001b[38;5;28;01mraise\u001b[39;00m IncompleteRead(\u001b[38;5;124mb\u001b[39m\u001b[38;5;124m'\u001b[39m\u001b[38;5;124m'\u001b[39m\u001b[38;5;241m.\u001b[39mjoin(value))\n",
      "\u001b[0;31mIncompleteRead\u001b[0m: IncompleteRead(116192 bytes read)"
     ]
    }
   ],
   "source": [
    "data=pd.read_csv('concrete_data.csv')\n"
   ]
  },
  {
   "cell_type": "code",
   "execution_count": null,
   "id": "b65cb27b",
   "metadata": {},
   "outputs": [],
   "source": []
  },
  {
   "cell_type": "code",
   "execution_count": null,
   "id": "8259cba6",
   "metadata": {},
   "outputs": [],
   "source": [
    "dir(data)"
   ]
  },
  {
   "cell_type": "markdown",
   "id": "6b75e578",
   "metadata": {},
   "source": [
    "# Exploration with pandas"
   ]
  },
  {
   "cell_type": "code",
   "execution_count": null,
   "id": "c35cdeb0",
   "metadata": {},
   "outputs": [],
   "source": [
    "type(data)"
   ]
  },
  {
   "cell_type": "code",
   "execution_count": null,
   "id": "b4751473",
   "metadata": {},
   "outputs": [],
   "source": [
    "data.head()"
   ]
  },
  {
   "cell_type": "code",
   "execution_count": null,
   "id": "045c5a37",
   "metadata": {},
   "outputs": [],
   "source": [
    "data.tail()"
   ]
  },
  {
   "cell_type": "code",
   "execution_count": null,
   "id": "8cef6146",
   "metadata": {},
   "outputs": [],
   "source": [
    "data.count()"
   ]
  },
  {
   "cell_type": "markdown",
   "id": "58b15a28",
   "metadata": {},
   "source": [
    "## Cleaning data - checking for missing and duplicate values"
   ]
  },
  {
   "cell_type": "code",
   "execution_count": null,
   "id": "f4e74d2a",
   "metadata": {},
   "outputs": [],
   "source": [
    "data.isnull().values.any()"
   ]
  },
  {
   "cell_type": "code",
   "execution_count": null,
   "id": "03cd3f6f",
   "metadata": {},
   "outputs": [],
   "source": [
    "data.isnull().any()"
   ]
  },
  {
   "cell_type": "code",
   "execution_count": null,
   "id": "b79886ba",
   "metadata": {},
   "outputs": [],
   "source": [
    " data[data.duplicated()]"
   ]
  },
  {
   "cell_type": "code",
   "execution_count": null,
   "id": "d403be60",
   "metadata": {},
   "outputs": [],
   "source": []
  },
  {
   "cell_type": "code",
   "execution_count": null,
   "id": "ff51116c",
   "metadata": {},
   "outputs": [],
   "source": [
    "data.drop_duplicates(keep=\"first\",inplace=True)"
   ]
  },
  {
   "cell_type": "code",
   "execution_count": null,
   "id": "d65d2bdb",
   "metadata": {},
   "outputs": [],
   "source": [
    "data"
   ]
  },
  {
   "cell_type": "code",
   "execution_count": null,
   "id": "faf98e79",
   "metadata": {},
   "outputs": [],
   "source": [
    "data.info()"
   ]
  },
  {
   "cell_type": "markdown",
   "id": "4ca86b3b",
   "metadata": {},
   "source": [
    "# Visualizing and understanding the data"
   ]
  },
  {
   "cell_type": "code",
   "execution_count": null,
   "id": "df5b4b65",
   "metadata": {},
   "outputs": [],
   "source": [
    "data.describe()"
   ]
  },
  {
   "cell_type": "markdown",
   "id": "4fbe9401",
   "metadata": {},
   "source": [
    "###### check out the strength for concrete at different ages"
   ]
  },
  {
   "cell_type": "code",
   "execution_count": null,
   "id": "139684d1",
   "metadata": {},
   "outputs": [],
   "source": [
    "data.groupby('age')[['strength']].max()"
   ]
  },
  {
   "cell_type": "code",
   "execution_count": null,
   "id": "5d4c720b",
   "metadata": {},
   "outputs": [],
   "source": [
    "data.groupby('cement')[['strength']].max()"
   ]
  },
  {
   "cell_type": "markdown",
   "id": "eda1af70",
   "metadata": {},
   "source": [
    "#### strength when age is 1"
   ]
  },
  {
   "cell_type": "code",
   "execution_count": null,
   "id": "6cd79d5b",
   "metadata": {},
   "outputs": [],
   "source": [
    "data[data['age']==1][['strength']].max()"
   ]
  },
  {
   "cell_type": "code",
   "execution_count": null,
   "id": "57c2bfb7",
   "metadata": {},
   "outputs": [],
   "source": [
    "data[data['strength']>80].shape[0]"
   ]
  },
  {
   "cell_type": "markdown",
   "id": "102b3ccb",
   "metadata": {},
   "source": [
    "#### strength when age is 365"
   ]
  },
  {
   "cell_type": "code",
   "execution_count": null,
   "id": "6bdd9d67",
   "metadata": {},
   "outputs": [],
   "source": [
    "data.loc[data['age']==365][['strength']].max()"
   ]
  },
  {
   "cell_type": "markdown",
   "id": "7a505a91",
   "metadata": {},
   "source": [
    "#### strength when cement is 540.000000 kg(max)"
   ]
  },
  {
   "cell_type": "code",
   "execution_count": null,
   "id": "6cb927e5",
   "metadata": {},
   "outputs": [],
   "source": [
    "data.loc[data['cement']==540.000000][['strength']].max()"
   ]
  },
  {
   "cell_type": "markdown",
   "id": "07730ff4",
   "metadata": {},
   "source": [
    "##### we can see that we get a good strength if we use more cement"
   ]
  },
  {
   "cell_type": "markdown",
   "id": "62514421",
   "metadata": {},
   "source": [
    "#### strength when cement is 102.000000 (min)"
   ]
  },
  {
   "cell_type": "code",
   "execution_count": null,
   "id": "bcf6fda2",
   "metadata": {},
   "outputs": [],
   "source": [
    "data.loc[data['cement']==102.000000][['strength']].max()"
   ]
  },
  {
   "cell_type": "markdown",
   "id": "2579a975",
   "metadata": {},
   "source": [
    "##### we can see that we get a poor strength if we use more cement"
   ]
  },
  {
   "cell_type": "markdown",
   "id": "5e301dfe",
   "metadata": {},
   "source": [
    "#### strength when cement is max and age is low"
   ]
  },
  {
   "cell_type": "code",
   "execution_count": null,
   "id": "bcd03b20",
   "metadata": {},
   "outputs": [],
   "source": [
    "data.loc[(data['cement']==540.000000) & (data['age']<30)][['strength']].max()"
   ]
  },
  {
   "cell_type": "markdown",
   "id": "36ea4c62",
   "metadata": {},
   "source": [
    "#### strength when cement is max and age is high"
   ]
  },
  {
   "cell_type": "code",
   "execution_count": null,
   "id": "9f3534fe",
   "metadata": {},
   "outputs": [],
   "source": [
    "data.loc[(data['cement']==540.000000) & (data['age']>200)][['strength']].max()"
   ]
  },
  {
   "cell_type": "markdown",
   "id": "7bd9914a",
   "metadata": {},
   "source": [
    "#### stength when cement is min and age is high"
   ]
  },
  {
   "cell_type": "code",
   "execution_count": null,
   "id": "3f1209e3",
   "metadata": {},
   "outputs": [],
   "source": [
    "data.loc[(data['cement']==102.000000) & (data['age']>80)][['strength']].max()"
   ]
  },
  {
   "cell_type": "markdown",
   "id": "1a03a601",
   "metadata": {},
   "source": [
    "#### strength when cement is min and age is low"
   ]
  },
  {
   "cell_type": "code",
   "execution_count": null,
   "id": "2b736336",
   "metadata": {},
   "outputs": [],
   "source": [
    "data.loc[(data['cement']==102.000000) & (data['age']<30)][['strength']].max()"
   ]
  },
  {
   "cell_type": "markdown",
   "id": "c7d9ede7",
   "metadata": {},
   "source": [
    "#### observation 1- regardless of the ages of cement the amount still determines it strength. if its in low amount the concrete yields lower strength and vice versa"
   ]
  },
  {
   "cell_type": "markdown",
   "id": "e46c3d21",
   "metadata": {},
   "source": [
    "#### observation 2- no cement has lasted more than 3 months"
   ]
  },
  {
   "cell_type": "markdown",
   "id": "2e09805b",
   "metadata": {},
   "source": [
    "### Plotting graphs"
   ]
  },
  {
   "cell_type": "code",
   "execution_count": null,
   "id": "cac86bfc",
   "metadata": {},
   "outputs": [],
   "source": [
    "\n",
    "#data['strength'].plot(kind=\"hist\",bins=80,color='red')\n",
    "# plt.hist(data['strength'],kind=\"hist\",bins=80,rwidth=0.5)\n",
    "plt.hist(data['strength'],bins=10,rwidth=0.5,ec='black',color=\"red\")"
   ]
  },
  {
   "cell_type": "code",
   "execution_count": null,
   "id": "896baf83",
   "metadata": {},
   "outputs": [],
   "source": [
    "data['strength'].mode()"
   ]
  },
  {
   "cell_type": "markdown",
   "id": "611e01c6",
   "metadata": {},
   "source": [
    "#### very few concretes are extremely strong from the data set since only few are above 80; 3 to be exact. while most are beloe average 31"
   ]
  },
  {
   "cell_type": "code",
   "execution_count": null,
   "id": "e91f7967",
   "metadata": {},
   "outputs": [],
   "source": [
    "plt.hist(data['slag'],bins=10,rwidth=0.5,ec='black',color=\"purple\")"
   ]
  },
  {
   "cell_type": "code",
   "execution_count": null,
   "id": "1b12aee2",
   "metadata": {},
   "outputs": [],
   "source": [
    "data['slag'].mode()"
   ]
  },
  {
   "cell_type": "markdown",
   "id": "f7f58ea5",
   "metadata": {},
   "source": [
    "#### for most slag was not even included"
   ]
  },
  {
   "cell_type": "code",
   "execution_count": null,
   "id": "75a95fa5",
   "metadata": {},
   "outputs": [],
   "source": [
    "plt.hist(data['cement'],bins=10,rwidth=0.5,ec='black',color=\"skyblue\")"
   ]
  },
  {
   "cell_type": "code",
   "execution_count": null,
   "id": "f7f48e14",
   "metadata": {},
   "outputs": [],
   "source": [
    "data['cement'].mode()"
   ]
  },
  {
   "cell_type": "code",
   "execution_count": null,
   "id": "a8259a79",
   "metadata": {},
   "outputs": [],
   "source": [
    "\n",
    "plt.hist(data['superplasticizer'],bins=10,rwidth=0.5,ec='black',color=\"blue\")"
   ]
  },
  {
   "cell_type": "markdown",
   "id": "1713fb17",
   "metadata": {},
   "source": [
    "### Checking correlation of the colums with strength using heatmap"
   ]
  },
  {
   "cell_type": "code",
   "execution_count": null,
   "id": "b0dc8e67",
   "metadata": {},
   "outputs": [],
   "source": [
    "plt.figure(figsize=[10,10])\n",
    "sns.heatmap(data=data.corr(),annot=True,cmap=\"Blues\")"
   ]
  },
  {
   "cell_type": "code",
   "execution_count": null,
   "id": "06798b5d",
   "metadata": {},
   "outputs": [],
   "source": [
    "strength_cement_corr = round(data['cement'].corr(data['strength']), 3)"
   ]
  },
  {
   "cell_type": "code",
   "execution_count": null,
   "id": "27f5322f",
   "metadata": {},
   "outputs": [],
   "source": [
    "\n",
    "plt.figure(figsize=[15,10])\n",
    "\n",
    "plt.scatter(x=data['cement'],y=data['strength'],color='green')\n",
    "plt.title(f'Strength vs Cement (kg) corr {strength_cement_corr}')"
   ]
  },
  {
   "cell_type": "code",
   "execution_count": null,
   "id": "ccf73c74",
   "metadata": {},
   "outputs": [],
   "source": [
    "sns.pairplot(data,kind='reg')"
   ]
  },
  {
   "cell_type": "markdown",
   "id": "66cccd07",
   "metadata": {},
   "source": [
    "## Split data into train and test"
   ]
  },
  {
   "cell_type": "code",
   "execution_count": null,
   "id": "976f71d1",
   "metadata": {},
   "outputs": [],
   "source": [
    "target=data['strength']\n",
    "features=data.drop('strength',axis=1)"
   ]
  },
  {
   "cell_type": "code",
   "execution_count": null,
   "id": "00c0dc2f",
   "metadata": {},
   "outputs": [],
   "source": [
    "features"
   ]
  },
  {
   "cell_type": "code",
   "execution_count": null,
   "id": "bdb98fa6",
   "metadata": {},
   "outputs": [],
   "source": [
    "X_train,X_test,y_train,y_test=train_test_split(features,target,test_size=0.2,random_state=10)"
   ]
  },
  {
   "cell_type": "code",
   "execution_count": null,
   "id": "f87ec284",
   "metadata": {},
   "outputs": [],
   "source": [
    "X_train.shape[0]"
   ]
  },
  {
   "cell_type": "code",
   "execution_count": null,
   "id": "ca9fc80f",
   "metadata": {},
   "outputs": [],
   "source": [
    "X_test.shape[0]"
   ]
  },
  {
   "cell_type": "markdown",
   "id": "93335bb4",
   "metadata": {},
   "source": [
    "## Multivariable Regression"
   ]
  },
  {
   "cell_type": "code",
   "execution_count": null,
   "id": "5957c9c5",
   "metadata": {},
   "outputs": [],
   "source": [
    "model=reg()\n",
    "model.fit(X_train,y_train)\n",
    "pd.DataFrame(data=model.coef_,columns=['coef'],index=X_train.columns)"
   ]
  },
  {
   "cell_type": "code",
   "execution_count": null,
   "id": "39626acf",
   "metadata": {},
   "outputs": [],
   "source": [
    "model.intercept_"
   ]
  },
  {
   "cell_type": "code",
   "execution_count": null,
   "id": "d900b967",
   "metadata": {},
   "outputs": [],
   "source": []
  },
  {
   "cell_type": "markdown",
   "id": "89c032c3",
   "metadata": {},
   "source": [
    "### using statsmodel"
   ]
  },
  {
   "cell_type": "code",
   "execution_count": null,
   "id": "65e29363",
   "metadata": {},
   "outputs": [],
   "source": [
    "# Original Model\n",
    "X_incl_const = sm.add_constant(X_train)\n",
    "model = sm.OLS(y_train, X_incl_const)\n",
    "results = model.fit()\n",
    "corr = round(y_train.corr(results.fittedvalues), 2)\n",
    "plt.figure(figsize=[10,10])\n",
    "plt.title(f'Predicted concrete strength vs Actual concrete strength with correlation {corr}')\n",
    "plt.scatter(x=y_train,y=results.fittedvalues,color='pink')\n",
    "plt.xlabel('Actual concrete strength')\n",
    "plt.ylabel('Predicted values concrete strength')\n",
    "plt.plot(y_train,y_train,color='black')"
   ]
  },
  {
   "cell_type": "markdown",
   "id": "a7c3addd",
   "metadata": {},
   "source": [
    "#### Residual plot - checking for Normality"
   ]
  },
  {
   "cell_type": "code",
   "execution_count": null,
   "id": "e5012b7a",
   "metadata": {},
   "outputs": [],
   "source": [
    "# plt.figure(figsize=[10,10])\n",
    "plt.title(f'Residuals of concrete strength vs Predicted concrete strength with correlation ')\n",
    "plt.scatter(x=results.fittedvalues,y=results.resid,color='skyblue')\n",
    "plt.xlabel('Predicted concrete strength')\n",
    "plt.ylabel('Residuals of the concrete strength')"
   ]
  },
  {
   "cell_type": "code",
   "execution_count": null,
   "id": "5ddcd438",
   "metadata": {},
   "outputs": [],
   "source": [
    "plt.figure(figsize=[10,10])\n",
    "\n",
    "resid_skew=round(results.resid.skew())\n",
    "resid_mean=round(results.resid.mean())\n",
    "sns.displot(results.resid)\n",
    "plt.title(f'Distribution plot of the residuals mean: {resid_mean}, skew {resid_skew}',fontsize=18)"
   ]
  },
  {
   "cell_type": "code",
   "execution_count": null,
   "id": "f1ddf3de",
   "metadata": {},
   "outputs": [],
   "source": [
    "pd.DataFrame(data=results.resid,columns=['residuals'])\n"
   ]
  },
  {
   "cell_type": "code",
   "execution_count": null,
   "id": "d1b567d6",
   "metadata": {},
   "outputs": [],
   "source": [
    "mse=round(results.mse_resid,3)\n",
    "r_squared=round(results.rsquared,3)\n",
    "print('mean squared error',mse)\n",
    "print('r squared',r_squared)\n"
   ]
  },
  {
   "cell_type": "markdown",
   "id": "60b976d5",
   "metadata": {},
   "source": [
    "## Data Transformation"
   ]
  },
  {
   "cell_type": "code",
   "execution_count": null,
   "id": "857ed666",
   "metadata": {},
   "outputs": [],
   "source": [
    "data['strength'].skew()"
   ]
  },
  {
   "cell_type": "code",
   "execution_count": null,
   "id": "356e64b5",
   "metadata": {},
   "outputs": [],
   "source": []
  },
  {
   "cell_type": "code",
   "execution_count": null,
   "id": "e5e7bc93",
   "metadata": {},
   "outputs": [],
   "source": [
    "# Model with omitted features\n",
    "\n",
    "target_1=np.log(data['strength'])\n",
    "features_1=data.drop(['strength',\n",
    "                      'fly_ash'\n",
    "                      ,\n",
    "                      'coarse_aggregate',\n",
    "                     'fine_aggregate'\n",
    "                     ],axis=1)\n",
    "X_train,X_test,y_train,y_test=train_test_split(features_1,target_1,test_size=0.2,random_state=10)\n",
    "model_1=reg()\n",
    "model_1.fit(X_train,y_train)\n",
    "pd.DataFrame(data=model_1.coef_,columns=['coef'],index=X_train.columns)\n",
    "\n"
   ]
  },
  {
   "cell_type": "code",
   "execution_count": null,
   "id": "f84f2d6d",
   "metadata": {},
   "outputs": [],
   "source": [
    "# Original Model\n",
    "X_incl_const = sm.add_constant(X_train)\n",
    "model = sm.OLS(y_train, X_incl_const)\n",
    "results = model.fit()\n",
    "corr = round(y_train.corr(results.fittedvalues), 2)\n",
    "plt.figure(figsize=[10,10])\n",
    "plt.title(f'Predicted concrete strength vs Actual concrete strength with correlation {corr}')\n",
    "plt.scatter(x=y_train,y=results.fittedvalues,color='pink')\n",
    "plt.xlabel('Actual concrete strength')\n",
    "plt.ylabel('Predicted values concrete strength')\n",
    "plt.plot(y_train,y_train,color='black')"
   ]
  },
  {
   "cell_type": "code",
   "execution_count": null,
   "id": "f23c03c2",
   "metadata": {},
   "outputs": [],
   "source": [
    "# plt.figure(figsize=[10,10])\n",
    "plt.title(f'Residuals of concrete strength vs Predicted concrete strength with correlation ')\n",
    "plt.scatter(x=results.fittedvalues,y=results.resid,color='skyblue')\n",
    "plt.xlabel('Predicted concrete strength')\n",
    "plt.ylabel('Residuals of the concrete strength')\n",
    "\n"
   ]
  },
  {
   "cell_type": "code",
   "execution_count": null,
   "id": "7ef6807d",
   "metadata": {},
   "outputs": [],
   "source": [
    "plt.figure(figsize=[10,10])\n",
    "\n",
    "resid_skew=round(results.resid.skew())\n",
    "resid_mean=round(results.resid.mean())\n",
    "sns.displot(results.resid)\n",
    "plt.title(f'Distribution plot of the residuals mean: {resid_mean}, skew {resid_skew}',fontsize=18)"
   ]
  },
  {
   "cell_type": "code",
   "execution_count": null,
   "id": "b271b5e3",
   "metadata": {},
   "outputs": [],
   "source": []
  },
  {
   "cell_type": "code",
   "execution_count": null,
   "id": "a7438e35",
   "metadata": {},
   "outputs": [],
   "source": [
    "mse=round(results.mse_resid,3)\n",
    "r_squared=round(results.rsquared,3)\n",
    "print('mean squared error',mse)\n",
    "print('r squared',r_squared)\n"
   ]
  },
  {
   "cell_type": "code",
   "execution_count": null,
   "id": "63bc15d6",
   "metadata": {},
   "outputs": [],
   "source": [
    "# Using log\n",
    "\n",
    "target_2=np.log(data['strength'])\n",
    "features=data.drop('strength',axis=1)\n",
    "X_train,X_test,y_train,y_test=train_test_split(features_2,target_2,test_size=0.2,random_state=10)\n",
    "model_2=reg()\n",
    "model_2.fit(X_train,y_train)\n",
    "pd.DataFrame(data=model_2.coef_,columns=['coef'],index=X_train.columns)\n",
    "\n"
   ]
  },
  {
   "cell_type": "code",
   "execution_count": null,
   "id": "d74e5651",
   "metadata": {},
   "outputs": [],
   "source": [
    "X_incl_const = sm.add_constant(X_train)\n",
    "model = sm.OLS(y_train, X_incl_const)\n",
    "results = model.fit()\n",
    "corr = round(y_train.corr(results.fittedvalues), 2)\n",
    "plt.figure(figsize=[10,10])\n",
    "plt.title(f'Predicted concrete strength vs Actual concrete strength with correlation {corr}')\n",
    "plt.scatter(x=y_train,y=results.fittedvalues,color='pink')\n",
    "plt.xlabel('Actual concrete strength')\n",
    "plt.ylabel('Predicted values concrete strength')\n",
    "plt.plot(y_train,y_train,color='black')\n",
    "\n"
   ]
  },
  {
   "cell_type": "code",
   "execution_count": null,
   "id": "d36a2ea9",
   "metadata": {},
   "outputs": [],
   "source": [
    "plt.figure(figsize=[10,10])\n",
    "plt.title(f'Residuals of concrete strength vs Predicted concrete strength with correlation ')\n",
    "plt.scatter(x=results.fittedvalues,y=results.resid,color='skyblue')\n",
    "plt.xlabel('Predicted concrete strength')\n",
    "plt.ylabel('Residuals of the concrete strength')"
   ]
  },
  {
   "cell_type": "code",
   "execution_count": null,
   "id": "426ccdce",
   "metadata": {},
   "outputs": [],
   "source": [
    "plt.figure(figsize=[10,10])\n",
    "\n",
    "resid_skew=round(results.resid.skew())\n",
    "resid_mean=round(results.resid.mean())\n",
    "sns.displot(results.resid)\n",
    "plt.title(f'Distribution plot of the residuals mean: {resid_mean}, skew {resid_skew}',fontsize=18)"
   ]
  },
  {
   "cell_type": "code",
   "execution_count": null,
   "id": "532f7680",
   "metadata": {},
   "outputs": [],
   "source": [
    "mse=round(results.mse_resid,3)\n",
    "r_squared=round(results.rsquared,3)\n",
    "print('mean squared error',mse)\n",
    "print('r squared',r_squared)"
   ]
  },
  {
   "cell_type": "markdown",
   "id": "fb68fa01",
   "metadata": {},
   "source": [
    "## log scaling is only good when the residual distribution is not normal"
   ]
  },
  {
   "cell_type": "code",
   "execution_count": null,
   "id": "f3eca7a7",
   "metadata": {},
   "outputs": [],
   "source": []
  }
 ],
 "metadata": {
  "kernelspec": {
   "display_name": "Python 3 (ipykernel)",
   "language": "python",
   "name": "python3"
  },
  "language_info": {
   "codemirror_mode": {
    "name": "ipython",
    "version": 3
   },
   "file_extension": ".py",
   "mimetype": "text/x-python",
   "name": "python",
   "nbconvert_exporter": "python",
   "pygments_lexer": "ipython3",
   "version": "3.9.12"
  }
 },
 "nbformat": 4,
 "nbformat_minor": 5
}
